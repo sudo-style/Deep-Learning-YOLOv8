version https://git-lfs.github.com/spec/v1
oid sha256:4cf859a3aa299ae4476fa9f9f58ea09e95fefb94fceb9b74e5c78364019b2a0f
size 7922
