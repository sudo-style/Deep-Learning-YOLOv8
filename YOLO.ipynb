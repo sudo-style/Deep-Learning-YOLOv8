version https://git-lfs.github.com/spec/v1
oid sha256:4b7d68401e886ee1aabe36043b2ec4f708c1fa70e96abc6a6fb9f791c16b6bcc
size 11183
